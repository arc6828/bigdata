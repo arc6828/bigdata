{
 "cells": [
  {
   "cell_type": "code",
   "execution_count": 1,
   "metadata": {},
   "outputs": [],
   "source": [
    "import numpy as np\n",
    "import pandas as pd "
   ]
  },
  {
   "cell_type": "code",
   "execution_count": 2,
   "metadata": {},
   "outputs": [],
   "source": [
    "df = pd.read_csv('custom monthly 2020 - All.csv')"
   ]
  },
  {
   "cell_type": "code",
   "execution_count": null,
   "metadata": {},
   "outputs": [],
   "source": [
    "flare_dict = { \"name\" : \"root\" , \"children\" : []  };\n",
    "for index, row in df.iterrows():\n",
    "    #print(row['eight_bits'], row['volume'])\n",
    "    \n",
    "    key2 = str(row['chapter_description']);\n",
    "    key4 = str(row['heading_description']);\n",
    "    key8 = str(row['Description']);\n",
    "    volume = int(row['volume']);\n",
    "    value = int(row['CIF (BAHT)']);\n",
    "    \n",
    "    #KEY2\n",
    "    if key2 not in flare_dict :         \n",
    "        #CREATE IF NOT EXIST        \n",
    "        tree_map_dict[key8] = {\"location\":key8 , \"parent\" : key6 , \"volume\" : volume} \n",
    "    else: \n",
    "        #UPDATE VOLUME IF EXIST\n",
    "        tree_map_dict[key8][\"volume\"] += volume\n",
    "    \n",
    "    #KEY6\n",
    "    if key6 not in tree_map_dict :         \n",
    "        #CREATE IF NOT EXIST        \n",
    "        tree_map_dict[key6] = {\"location\":key6 , \"parent\" : key4 , \"volume\" : volume} \n",
    "    else: \n",
    "        #UPDATE VOLUME IF EXIST\n",
    "        tree_map_dict[key6][\"volume\"] += volume\n",
    "    \n",
    "    #KEY4\n",
    "    if key4 not in tree_map_dict :         \n",
    "        #CREATE IF NOT EXIST        \n",
    "        tree_map_dict[key4] = {\"location\":key4 , \"parent\" : key_root , \"volume\" : volume} \n",
    "    else: \n",
    "        #UPDATE VOLUME IF EXIST\n",
    "        tree_map_dict[key4][\"volume\"] += volume\n",
    "    #print(key_root)\n",
    "        \n",
    "    "
   ]
  }
 ],
 "metadata": {
  "kernelspec": {
   "display_name": "Python 3",
   "language": "python",
   "name": "python3"
  },
  "language_info": {
   "codemirror_mode": {
    "name": "ipython",
    "version": 3
   },
   "file_extension": ".py",
   "mimetype": "text/x-python",
   "name": "python",
   "nbconvert_exporter": "python",
   "pygments_lexer": "ipython3",
   "version": "3.7.6"
  }
 },
 "nbformat": 4,
 "nbformat_minor": 4
}
